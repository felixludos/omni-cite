{
 "cells": [
  {
   "cell_type": "code",
   "execution_count": 1,
   "id": "initial_id",
   "metadata": {
    "collapsed": true,
    "ExecuteTime": {
     "end_time": "2023-08-30T13:52:41.747619400Z",
     "start_time": "2023-08-30T13:52:40.060946900Z"
    }
   },
   "outputs": [],
   "source": [
    "import omnifig as fig\n",
    "import requests\n",
    "fig.initialize()"
   ]
  },
  {
   "cell_type": "code",
   "execution_count": 2,
   "outputs": [],
   "source": [
    "A = fig.create_config('debug')\n",
    "A.silent = True"
   ],
   "metadata": {
    "collapsed": false,
    "ExecuteTime": {
     "end_time": "2023-08-30T13:52:41.804504100Z",
     "start_time": "2023-08-30T13:52:41.752619900Z"
    }
   },
   "id": "bb1486d6df7f1a99"
  },
  {
   "cell_type": "code",
   "execution_count": 3,
   "outputs": [],
   "source": [
    "database_url = f'https://api.notion.com/v1/databases/{A.pull(\"notion_database_id\")}'\n",
    "notion_header = {'Notion-Version': '2022-06-28', 'Authorization': f'Bearer {A.pull(\"notion_secret\")}'}\n",
    "notion_parent = {'database_id': A.pull(\"notion_database_id\"), 'type': 'database_id'}"
   ],
   "metadata": {
    "collapsed": false,
    "ExecuteTime": {
     "end_time": "2023-08-30T13:52:41.810022700Z",
     "start_time": "2023-08-30T13:52:41.798752400Z"
    }
   },
   "id": "5193c7a858ccf1cc"
  },
  {
   "cell_type": "code",
   "execution_count": null,
   "outputs": [],
   "source": [],
   "metadata": {
    "collapsed": false
   },
   "id": "ec0dbf60ebfba7b"
  },
  {
   "cell_type": "code",
   "execution_count": null,
   "outputs": [],
   "source": [],
   "metadata": {
    "collapsed": false
   },
   "id": "7bcc7e13cfbb7244"
  },
  {
   "cell_type": "code",
   "execution_count": 4,
   "outputs": [],
   "source": [
    "resp = requests.request('GET', database_url, headers=notion_header)\n",
    "out = resp.json()"
   ],
   "metadata": {
    "collapsed": false,
    "ExecuteTime": {
     "end_time": "2023-08-30T13:52:48.911452300Z",
     "start_time": "2023-08-30T13:52:46.407868900Z"
    }
   },
   "id": "63e01973a8574508"
  },
  {
   "cell_type": "code",
   "execution_count": 5,
   "outputs": [],
   "source": [
    "# Deletes the property \"Keywords\" from the database\n",
    "# resp = requests.request('PATCH', database_url, headers=notion_header, json={\"properties\": {\"Keywords\": None,}})\n",
    "# out2 = resp.json()"
   ],
   "metadata": {
    "collapsed": false,
    "ExecuteTime": {
     "end_time": "2023-08-30T13:53:46.266981800Z",
     "start_time": "2023-08-30T13:53:43.626738100Z"
    }
   },
   "id": "99076a584a23b73"
  },
  {
   "cell_type": "code",
   "execution_count": null,
   "outputs": [],
   "source": [],
   "metadata": {
    "collapsed": false,
    "ExecuteTime": {
     "end_time": "2023-08-30T13:32:13.143378500Z",
     "start_time": "2023-08-30T13:32:12.957873900Z"
    }
   },
   "id": "ae1cdc1452258ecc"
  },
  {
   "cell_type": "code",
   "execution_count": null,
   "outputs": [],
   "source": [],
   "metadata": {
    "collapsed": false
   },
   "id": "57bb99add6558b15"
  }
 ],
 "metadata": {
  "kernelspec": {
   "display_name": "Python 3",
   "language": "python",
   "name": "python3"
  },
  "language_info": {
   "codemirror_mode": {
    "name": "ipython",
    "version": 2
   },
   "file_extension": ".py",
   "mimetype": "text/x-python",
   "name": "python",
   "nbconvert_exporter": "python",
   "pygments_lexer": "ipython2",
   "version": "2.7.6"
  }
 },
 "nbformat": 4,
 "nbformat_minor": 5
}
