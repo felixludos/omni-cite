{
 "cells": [
  {
   "cell_type": "code",
   "execution_count": 1,
   "id": "47ed9be1",
   "metadata": {
    "pycharm": {
     "name": "#%%\n"
    },
    "ExecuteTime": {
     "end_time": "2023-08-30T13:30:55.430515400Z",
     "start_time": "2023-08-30T13:30:53.809770800Z"
    }
   },
   "outputs": [],
   "source": [
    "import omnifig as fig\n",
    "import pyperclip\n",
    "fig.initialize()"
   ]
  },
  {
   "cell_type": "code",
   "execution_count": 2,
   "outputs": [],
   "source": [
    "# pyperclip.copy('The text to be copied to the clipboard.')\n",
    "# spam = pyperclip.paste()"
   ],
   "metadata": {
    "collapsed": false,
    "pycharm": {
     "name": "#%%\n"
    },
    "ExecuteTime": {
     "end_time": "2023-08-30T13:30:55.471761200Z",
     "start_time": "2023-08-30T13:30:55.433025700Z"
    }
   },
   "id": "258613324f854795"
  },
  {
   "cell_type": "code",
   "execution_count": 3,
   "outputs": [
    {
     "data": {
      "text/plain": "<omnifig.config.nodes.ConfigNode.ConfigContext at 0x1763b36f810>"
     },
     "execution_count": 3,
     "metadata": {},
     "output_type": "execute_result"
    }
   ],
   "source": [
    "A = fig.create_config('debug')\n",
    "A.silence()"
   ],
   "metadata": {
    "collapsed": false,
    "pycharm": {
     "name": "#%%\n"
    },
    "ExecuteTime": {
     "end_time": "2023-08-30T13:30:55.548222900Z",
     "start_time": "2023-08-30T13:30:55.448706900Z"
    }
   },
   "id": "bdbd6b9254e93920"
  },
  {
   "cell_type": "code",
   "execution_count": null,
   "outputs": [],
   "source": [
    "zot = A.pull('zotero')"
   ],
   "metadata": {
    "collapsed": false,
    "pycharm": {
     "name": "#%%\n"
    }
   },
   "id": "2eccab71fbafecbb"
  },
  {
   "cell_type": "code",
   "execution_count": null,
   "outputs": [],
   "source": [
    "itemKey = 'WHIDBCV4'"
   ],
   "metadata": {
    "collapsed": false,
    "pycharm": {
     "name": "#%%\n"
    }
   },
   "id": "ea24209e8bcaf2b8"
  },
  {
   "cell_type": "code",
   "execution_count": null,
   "outputs": [],
   "source": [
    "item = zot.zot.item(itemKey)\n",
    "item"
   ],
   "metadata": {
    "collapsed": false,
    "pycharm": {
     "name": "#%%\n"
    }
   },
   "id": "cd3d1161673457fb"
  },
  {
   "cell_type": "code",
   "execution_count": null,
   "outputs": [],
   "source": [
    "paperid = 'DQY9GC5J'"
   ],
   "metadata": {
    "collapsed": false,
    "pycharm": {
     "name": "#%%\n"
    }
   },
   "id": "3b070aa110ea9b2d"
  },
  {
   "cell_type": "code",
   "execution_count": null,
   "outputs": [],
   "source": [
    "item = zot.zot.item(paperid)\n",
    "item"
   ],
   "metadata": {
    "collapsed": false,
    "pycharm": {
     "name": "#%%\n"
    }
   },
   "id": "69840758c32d38d7"
  },
  {
   "cell_type": "code",
   "execution_count": null,
   "outputs": [],
   "source": [
    "from pathlib import Path"
   ],
   "metadata": {
    "collapsed": false,
    "pycharm": {
     "name": "#%%\n"
    }
   },
   "id": "e7b160469ab455f6"
  },
  {
   "cell_type": "code",
   "execution_count": null,
   "outputs": [],
   "source": [
    "root = Path('extra')"
   ],
   "metadata": {
    "collapsed": false,
    "pycharm": {
     "name": "#%%\n"
    }
   },
   "id": "4c5539ac780c39b4"
  },
  {
   "cell_type": "code",
   "execution_count": null,
   "outputs": [],
   "source": [
    "new_db_arxiv = '''http://arxiv.org/abs/2205.15463\tFew-Shot Diffusion Models\n",
    "http://arxiv.org/abs/2205.10343\tTowards Understanding Grokking\n",
    "http://arxiv.org/abs/2204.00382\tAutoencoder Attractors for Uncertainty Estimation\n",
    "http://arxiv.org/abs/2202.12637\tDo autoencoders need a bottleneck for anomaly detection?\n",
    "http://arxiv.org/abs/2202.06533\tAn Introduction to Neural Data Compression\n",
    "http://arxiv.org/abs/2109.00512\tCommon Objects in 3D\n",
    "http://arxiv.org/abs/2202.03169\tCITRIS\n",
    "http://arxiv.org/abs/2107.07754\tMeasuring Fairness in Generative Models\n",
    "http://arxiv.org/abs/2110.02915\tUnrolling Particles\n",
    "http://arxiv.org/abs/2010.10453\tModeling Content and Context with Deep Relational Learning\n",
    "http://arxiv.org/abs/2010.11518\tGeometry-Aware Hamiltonian Variational Auto-Encoder\n",
    "http://arxiv.org/abs/2010.12237\tAlgorithms for Causal Reasoning in Probability Trees\n",
    "http://arxiv.org/abs/2010.14407\tOn the Transfer of Disentangled Representations in Realistic Settings\n",
    "http://arxiv.org/abs/2010.14925\tMedMNIST Classification Decathlon\n",
    "http://arxiv.org/abs/2010.15283\tGENs\n",
    "http://arxiv.org/abs/2010.15831\tRelationNet++\n",
    "http://arxiv.org/abs/2011.05244\tEncoding large scale cosmological structure with Generative Adversarial Networks\n",
    "http://arxiv.org/abs/2011.05286\tContinual Learning of Control Primitives\n",
    "http://arxiv.org/abs/2011.08102\tCombining GANs and AutoEncoders for Efficient Anomaly Detection\n",
    "http://arxiv.org/abs/2011.08105\tEnforcing robust control guarantees within neural network policies\n",
    "http://arxiv.org/abs/2011.08114\tStylized Neural Painting\n",
    "http://arxiv.org/abs/2011.08145\tDecoupling Representation and Classifier for Noisy Label Learning\n",
    "http://arxiv.org/abs/2011.08785\tPaDiM\n",
    "http://arxiv.org/abs/2011.13775\tImage Generators with Conditionally-Independent Pixel Synthesis\n",
    "http://arxiv.org/abs/2012.03448\tVariational Autoencoders for Learning Nonlinear Dynamics of Physical Systems\n",
    "http://arxiv.org/abs/2012.03715\tAutoencoding Variational Autoencoder\n",
    "http://arxiv.org/abs/2012.09276\tMeasuring Disentanglement\n",
    "http://arxiv.org/abs/2012.09841\tTaming Transformers for High-Resolution Image Synthesis\n",
    "http://arxiv.org/abs/2101.01169\tTransformers in Vision\n",
    "http://arxiv.org/abs/2101.09258\tMaximum Likelihood Training of Score-Based Diffusion Models\n",
    "http://arxiv.org/abs/2102.03906\tCausal versions of Maximum Entropy and Principle of Insufficient Reason\n",
    "http://arxiv.org/abs/2102.05082\tDomain Invariant Representation Learning with Domain Density Transformations\n",
    "http://arxiv.org/abs/2102.06204\tDisentangled Representations from Non-Disentangled Models\n",
    "http://arxiv.org/abs/2103.03230\tBarlow Twins\n",
    "http://arxiv.org/abs/2103.13751\tData Augmentation with Variational Autoencoders and Manifold Sampling\n",
    "http://arxiv.org/abs/2105.02135\tUVIP\n",
    "http://arxiv.org/abs/2105.03663\tOn Linear Interpolation in the Latent Space of Deep Generative Models\n",
    "http://arxiv.org/abs/1702.04767\tLinear Time Computation of Moments in Sum-Product Networks\n",
    "http://arxiv.org/abs/1702.08396\tLearning Hierarchical Features from Generative Models\n",
    "http://arxiv.org/abs/1703.00848\tUnsupervised Image-to-Image Translation Networks\n",
    "http://arxiv.org/abs/1703.03400\tModel-Agnostic Meta-Learning for Fast Adaptation of Deep Networks\n",
    "http://arxiv.org/abs/1703.10593\tUnpaired Image-to-Image Translation using Cycle-Consistent Adversarial Networks\n",
    "http://arxiv.org/abs/1703.05921\tUnsupervised Anomaly Detection with Generative Adversarial Networks to Guide Marker Discovery\n",
    "http://arxiv.org/abs/1705.02894\tGeometric GAN\n",
    "http://arxiv.org/abs/1705.03122\tConvolutional Sequence to Sequence Learning\n",
    "http://arxiv.org/abs/1705.09367\tStabilizing Training of Generative Adversarial Networks through Regularization\n",
    "http://arxiv.org/abs/1705.10220\tPermutation-based Causal Inference Algorithms with Interventions\n",
    "http://arxiv.org/abs/1706.00531\tPixelGAN Autoencoders\n",
    "http://arxiv.org/abs/1706.02262\tInfoVAE\n",
    "http://arxiv.org/abs/1706.02515\tSelf-Normalizing Neural Networks\n",
    "http://arxiv.org/abs/1706.03762\tAttention Is All You Need\n",
    "http://arxiv.org/abs/1802.10151\tAugmented CycleGAN\n",
    "http://arxiv.org/abs/2102.10543\tLearning Disentangled Representation by Exploiting Pretrained Generative Models\n",
    "http://arxiv.org/abs/1709.07871\tFiLM\n",
    "http://arxiv.org/abs/2006.12460\tA Causal Framework for Observational Studies of Discrimination\n",
    "http://arxiv.org/abs/1904.02399\tRiemannian Normalizing Flow on Variational Wasserstein Autoencoder for Text Modeling\n",
    "http://arxiv.org/abs/2105.02087\tBenchmarking Structured Policies and Policy Optimization for Real-World Dexterous Object Manipulation\n",
    "http://arxiv.org/abs/1906.05374\tMeta-Learning via Learned Loss\n",
    "http://arxiv.org/abs/2105.14291\tDeep Learning on Monocular Object Pose Detection and Tracking\n",
    "http://arxiv.org/abs/2102.10395\tOn Calibration and Out-of-domain Generalization\n",
    "http://arxiv.org/abs/2110.09455\tTLDR\n",
    "http://arxiv.org/abs/2108.13264\tDeep Reinforcement Learning at the Edge of the Statistical Precipice\n",
    "http://arxiv.org/abs/2001.04296\tHigh-Fidelity Synthesis with Disentangled Representation\n",
    "http://arxiv.org/abs/2011.01681\tLearning Causal Semantic Representation for Out-of-Distribution Prediction\n",
    "http://arxiv.org/abs/2102.13647\tBeware of the Simulated DAG! Causal Discovery Benchmarks May Be Easy To Game\n",
    "http://arxiv.org/abs/2112.01388\tResidual Pathway Priors for Soft Equivariance Constraints\n",
    "http://arxiv.org/abs/2106.03452\tShape As Points\n",
    "http://arxiv.org/abs/1801.03924\tThe Unreasonable Effectiveness of Deep Features as a Perceptual Metric\n",
    "http://arxiv.org/abs/1710.05468\tGeneralization in Deep Learning\n",
    "http://arxiv.org/abs/2008.00565\tGeometrically Enriched Latent Spaces\n",
    "http://arxiv.org/abs/1612.00155\tAdversarial Images for Variational Autoencoders\n",
    "http://arxiv.org/abs/1801.04260\tConditional Probability Models for Deep Image Compression\n",
    "http://arxiv.org/abs/1804.00104\tLearning Disentangled Joint Continuous and Discrete Representations\n",
    "http://arxiv.org/abs/1911.12247\tContrastive Learning of Structured World Models'''.split('\\n')"
   ],
   "metadata": {
    "collapsed": false,
    "pycharm": {
     "name": "#%%\n"
    }
   },
   "id": "1f47a84b855abd14"
  },
  {
   "cell_type": "code",
   "execution_count": null,
   "outputs": [],
   "source": [
    "# with open(root/'old_ref_db.txt', 'w', encoding=\"utf-8\") as f:\n",
    "#     f.write(raw_old_db)"
   ],
   "metadata": {
    "collapsed": false,
    "pycharm": {
     "name": "#%%\n"
    }
   },
   "id": "a741c55f052b0011"
  },
  {
   "cell_type": "code",
   "execution_count": null,
   "outputs": [],
   "source": [
    "from omnibelt import load_csv"
   ],
   "metadata": {
    "collapsed": false,
    "pycharm": {
     "name": "#%%\n"
    }
   },
   "id": "e2669fc153853321"
  },
  {
   "cell_type": "code",
   "execution_count": null,
   "outputs": [],
   "source": [
    "# raw_old_db = open(root/'old_ref_db.txt', 'r', encoding=\"utf-8\").read().split('\\n')\n",
    "raw_old_db = load_csv(root/'old_references.csv')\n",
    "print(raw_old_db[0])\n",
    "print(raw_old_db[1])"
   ],
   "metadata": {
    "collapsed": false,
    "pycharm": {
     "name": "#%%\n"
    }
   },
   "id": "577e6f176a458233"
  },
  {
   "cell_type": "code",
   "execution_count": null,
   "outputs": [],
   "source": [
    "def arxiv_url_to_id(url):\n",
    "    return '.'.join(url.split('/')[-1].split('.')[:2])"
   ],
   "metadata": {
    "collapsed": false,
    "pycharm": {
     "name": "#%%\n"
    }
   },
   "id": "717e647d64719710"
  },
  {
   "cell_type": "code",
   "execution_count": null,
   "outputs": [],
   "source": [
    "# [line for line in lines if len(line) == 4]"
   ],
   "metadata": {
    "collapsed": false,
    "pycharm": {
     "name": "#%%\n"
    }
   },
   "id": "bb145df568cecdde"
  },
  {
   "cell_type": "code",
   "execution_count": null,
   "outputs": [],
   "source": [],
   "metadata": {
    "collapsed": false,
    "pycharm": {
     "name": "#%%\n"
    }
   },
   "id": "6dc233b18853bbf8"
  },
  {
   "cell_type": "code",
   "execution_count": null,
   "outputs": [],
   "source": [
    "arxiv = {arxiv_url_to_id(terms[0]): terms[1:] for terms in raw_old_db[1:] if 'arxiv.org' in terms[0]}\n",
    "# for ID, terms in arxiv.items():\n",
    "#     if isinstance(terms, str):\n",
    "#         terms[2] = terms[2].split(',')\n",
    "arxiv = {k: v[3] for k, v in arxiv.items()}\n",
    "len(arxiv)"
   ],
   "metadata": {
    "collapsed": false,
    "pycharm": {
     "name": "#%%\n"
    }
   },
   "id": "ad4bb4eec6678ee9"
  },
  {
   "cell_type": "code",
   "execution_count": null,
   "outputs": [],
   "source": [
    "# # zot.find_collection(q='pro')\n",
    "# pro_collection_key = 'F6IDVKVV'\n",
    "#\n",
    "# candidate_batch = zot.top(collection=pro_collection_key)\n",
    "# len(candidate_batch)"
   ],
   "metadata": {
    "collapsed": false,
    "pycharm": {
     "name": "#%%\n"
    }
   },
   "id": "df23da76deb0c549"
  },
  {
   "cell_type": "code",
   "execution_count": null,
   "outputs": [],
   "source": [
    "# item = candidate_batch[0]"
   ],
   "metadata": {
    "collapsed": false,
    "pycharm": {
     "name": "#%%\n"
    }
   },
   "id": "2cec12d198b4641a"
  },
  {
   "cell_type": "code",
   "execution_count": null,
   "outputs": [],
   "source": [
    "db_order = [line.split('\\t') for line in new_db_arxiv]\n",
    "db_order = [[arxiv_url_to_id(line[0]), line[1]] for line in db_order]\n",
    "len(db_order)"
   ],
   "metadata": {
    "collapsed": false,
    "pycharm": {
     "name": "#%%\n"
    }
   },
   "id": "47663bbdd15f7a79"
  },
  {
   "cell_type": "code",
   "execution_count": null,
   "outputs": [],
   "source": [
    "fixing = len([line for line in db_order if line[0] in arxiv])\n",
    "fixing, len(arxiv), len(db_order)"
   ],
   "metadata": {
    "collapsed": false,
    "pycharm": {
     "name": "#%%\n"
    }
   },
   "id": "9e94ac7bcbfe8710"
  },
  {
   "cell_type": "code",
   "execution_count": null,
   "outputs": [],
   "source": [
    "# fixed = [arxiv.get(line[0], line[1]) for line in db_order]\n",
    "fixed = [arxiv.get(line[0], '') for line in db_order]\n",
    "len(fixed)"
   ],
   "metadata": {
    "collapsed": false,
    "pycharm": {
     "name": "#%%\n"
    }
   },
   "id": "3eb8e9a7ef90ee91"
  },
  {
   "cell_type": "code",
   "execution_count": null,
   "outputs": [],
   "source": [
    "names = '\\n'.join(fixed)\n",
    "pyperclip.copy(names)\n",
    "print(names)"
   ],
   "metadata": {
    "collapsed": false,
    "pycharm": {
     "name": "#%%\n"
    }
   },
   "id": "a99398ed99220d26"
  },
  {
   "cell_type": "code",
   "execution_count": null,
   "outputs": [],
   "source": [],
   "metadata": {
    "collapsed": false,
    "pycharm": {
     "name": "#%%\n"
    }
   },
   "id": "2e5aae375a2d29f"
  },
  {
   "cell_type": "code",
   "execution_count": null,
   "outputs": [],
   "source": [
    "acands = {item['data'].get('archiveID', '').split(':')[-1]: item for item in candidate_batch if item['data'].get('archiveID', '').startswith('arXiv:')}\n",
    "len(acands)"
   ],
   "metadata": {
    "collapsed": false,
    "pycharm": {
     "name": "#%%\n"
    }
   },
   "id": "9377cff6717abe4"
  },
  {
   "cell_type": "code",
   "execution_count": null,
   "outputs": [],
   "source": [],
   "metadata": {
    "collapsed": false,
    "pycharm": {
     "name": "#%%\n"
    }
   },
   "id": "4b5beb45555082c0"
  },
  {
   "cell_type": "code",
   "execution_count": null,
   "outputs": [],
   "source": [
    "aurls = dict(line.split('\\t')[::-1] for line in raw_names.split('\\n'))\n",
    "len(urls)"
   ],
   "metadata": {
    "collapsed": false,
    "pycharm": {
     "name": "#%%\n"
    }
   },
   "id": "e7c6c6289fa8ee31"
  },
  {
   "cell_type": "code",
   "execution_count": null,
   "outputs": [],
   "source": [
    "# from collections import Counter"
   ],
   "metadata": {
    "collapsed": false,
    "pycharm": {
     "name": "#%%\n"
    }
   },
   "id": "e9964d6dafda30e2"
  },
  {
   "cell_type": "code",
   "execution_count": null,
   "outputs": [],
   "source": [
    "# Counter(raw_urls).most_common()"
   ],
   "metadata": {
    "collapsed": false,
    "pycharm": {
     "name": "#%%\n"
    }
   },
   "id": "ff6a8bb55838af34"
  },
  {
   "cell_type": "code",
   "execution_count": null,
   "outputs": [],
   "source": [
    "arxiv = {'.'.join(url.split('/')[-1].split('.')[:2]): name for url, name in urls.items() if 'arxiv.org' in url}\n",
    "len(arxiv)"
   ],
   "metadata": {
    "collapsed": false,
    "pycharm": {
     "name": "#%%\n"
    }
   },
   "id": "a9e544695cf2a5e8"
  },
  {
   "cell_type": "code",
   "execution_count": null,
   "outputs": [],
   "source": [],
   "metadata": {
    "collapsed": false,
    "pycharm": {
     "name": "#%%\n"
    }
   },
   "id": "4504fe294a810033"
  },
  {
   "cell_type": "code",
   "execution_count": null,
   "outputs": [],
   "source": [],
   "metadata": {
    "collapsed": false,
    "pycharm": {
     "name": "#%%\n"
    }
   },
   "id": "75c12da27efa3d11"
  },
  {
   "cell_type": "code",
   "execution_count": null,
   "outputs": [],
   "source": [],
   "metadata": {
    "collapsed": false,
    "pycharm": {
     "name": "#%%\n"
    }
   },
   "id": "729fb847a3670a15"
  },
  {
   "cell_type": "code",
   "execution_count": null,
   "outputs": [],
   "source": [],
   "metadata": {
    "collapsed": false,
    "pycharm": {
     "name": "#%%\n"
    }
   },
   "id": "23ecc5fbc8460a0f"
  },
  {
   "cell_type": "code",
   "execution_count": null,
   "outputs": [],
   "source": [
    "# # zot.find_collection(q='pro')\n",
    "# pro_collection_key = 'F6IDVKVV'\n",
    "#\n",
    "# candidate_batch = zot.top(collection=pro_collection_key)\n",
    "# len(candidate_batch)"
   ],
   "metadata": {
    "collapsed": false,
    "pycharm": {
     "name": "#%%\n"
    }
   },
   "id": "efb259de7298aa8e"
  },
  {
   "cell_type": "code",
   "execution_count": null,
   "outputs": [],
   "source": [
    "# item = candidate_batch[0]"
   ],
   "metadata": {
    "collapsed": false,
    "pycharm": {
     "name": "#%%\n"
    }
   },
   "id": "ba33146cf1456925"
  },
  {
   "cell_type": "code",
   "execution_count": null,
   "outputs": [],
   "source": [
    "db_order = [line.split('\\t') for line in new_db_arxiv]\n",
    "db_order = [[arxiv_url_to_id(line[0]), line[1]] for line in db_order]\n",
    "len(db_order)"
   ],
   "metadata": {
    "collapsed": false,
    "pycharm": {
     "name": "#%%\n"
    }
   },
   "id": "8a4a0c54cf5f2aa8"
  },
  {
   "cell_type": "code",
   "execution_count": null,
   "outputs": [],
   "source": [
    "fixing = len([line for line in db_order if line[0] in arxiv])\n",
    "fixing, len(arxiv), len(db_order)"
   ],
   "metadata": {
    "collapsed": false,
    "pycharm": {
     "name": "#%%\n"
    }
   },
   "id": "2d754dcc6423dc61"
  },
  {
   "cell_type": "code",
   "execution_count": null,
   "outputs": [],
   "source": [
    "# fixed = [arxiv.get(line[0], line[1]) for line in db_order]\n",
    "fixed = [arxiv.get(line[0], '') for line in db_order]\n",
    "len(fixed)"
   ],
   "metadata": {
    "collapsed": false,
    "pycharm": {
     "name": "#%%\n"
    }
   },
   "id": "cef77f9ff89ea56a"
  },
  {
   "cell_type": "code",
   "execution_count": null,
   "outputs": [],
   "source": [
    "names = '\\n'.join(fixed)\n",
    "pyperclip.copy(names)\n",
    "print(names)"
   ],
   "metadata": {
    "collapsed": false,
    "pycharm": {
     "name": "#%%\n"
    }
   },
   "id": "8565832f1f5d6033"
  },
  {
   "cell_type": "code",
   "execution_count": null,
   "outputs": [],
   "source": [],
   "metadata": {
    "collapsed": false,
    "pycharm": {
     "name": "#%%\n"
    }
   },
   "id": "f94768e8be7985f8"
  },
  {
   "cell_type": "code",
   "execution_count": null,
   "outputs": [],
   "source": [
    "acands = {item['data'].get('archiveID', '').split(':')[-1]: item for item in candidate_batch if item['data'].get('archiveID', '').startswith('arXiv:')}\n",
    "len(acands)"
   ],
   "metadata": {
    "collapsed": false,
    "pycharm": {
     "name": "#%%\n"
    }
   },
   "id": "756fe89779918018"
  },
  {
   "cell_type": "code",
   "execution_count": null,
   "outputs": [],
   "source": [],
   "metadata": {
    "collapsed": false,
    "pycharm": {
     "name": "#%%\n"
    }
   },
   "id": "f2b72ae27906c5ea"
  },
  {
   "cell_type": "code",
   "execution_count": null,
   "outputs": [],
   "source": [
    "aurls = dict(line.split('\\t')[::-1] for line in raw_names.split('\\n'))\n",
    "len(urls)"
   ],
   "metadata": {
    "collapsed": false,
    "pycharm": {
     "name": "#%%\n"
    }
   },
   "id": "ebbd136c1fa2db76"
  },
  {
   "cell_type": "code",
   "execution_count": null,
   "outputs": [],
   "source": [
    "# from collections import Counter"
   ],
   "metadata": {
    "collapsed": false,
    "pycharm": {
     "name": "#%%\n"
    }
   },
   "id": "1570b7272b0e4ec"
  },
  {
   "cell_type": "code",
   "execution_count": null,
   "outputs": [],
   "source": [
    "# Counter(raw_urls).most_common()"
   ],
   "metadata": {
    "collapsed": false,
    "pycharm": {
     "name": "#%%\n"
    }
   },
   "id": "580f57585aaf09c"
  },
  {
   "cell_type": "code",
   "execution_count": null,
   "outputs": [],
   "source": [
    "arxiv = {'.'.join(url.split('/')[-1].split('.')[:2]): name for url, name in urls.items() if 'arxiv.org' in url}\n",
    "len(arxiv)"
   ],
   "metadata": {
    "collapsed": false,
    "pycharm": {
     "name": "#%%\n"
    }
   },
   "id": "cde0157d1d32c511"
  },
  {
   "cell_type": "code",
   "execution_count": null,
   "outputs": [],
   "source": [],
   "metadata": {
    "collapsed": false,
    "pycharm": {
     "name": "#%%\n"
    }
   },
   "id": "6a4416d316595c8a"
  },
  {
   "cell_type": "code",
   "execution_count": null,
   "outputs": [],
   "source": [],
   "metadata": {
    "collapsed": false,
    "pycharm": {
     "name": "#%%\n"
    }
   },
   "id": "3d0c04c211e5ce42"
  },
  {
   "cell_type": "code",
   "execution_count": null,
   "outputs": [],
   "source": [],
   "metadata": {
    "collapsed": false,
    "pycharm": {
     "name": "#%%\n"
    }
   },
   "id": "9c57fd9e4c975f89"
  },
  {
   "cell_type": "code",
   "execution_count": null,
   "outputs": [],
   "source": [],
   "metadata": {
    "collapsed": false,
    "pycharm": {
     "name": "#%%\n"
    }
   },
   "id": "96f2446187cbcb74"
  },
  {
   "cell_type": "code",
   "execution_count": null,
   "outputs": [],
   "source": [
    "bases = ['.'.join(a.split('v')[0].split('.')[:2]) for a in arxiv]\n",
    "len(bases)"
   ],
   "metadata": {
    "collapsed": false,
    "pycharm": {
     "name": "#%%\n"
    }
   },
   "id": "22f6cf5b8928b4c1"
  },
  {
   "cell_type": "code",
   "execution_count": null,
   "outputs": [],
   "source": [
    "sorted(bases)"
   ],
   "metadata": {
    "collapsed": false,
    "pycharm": {
     "name": "#%%\n"
    }
   },
   "id": "db4d4793bb292711"
  },
  {
   "cell_type": "code",
   "execution_count": null,
   "outputs": [],
   "source": [
    "\n",
    "url_fmt = 'https://arxiv.org/abs/{}'\n",
    "for b in sorted(bases, reverse=True):\n",
    "    print(url_fmt.format(b))"
   ],
   "metadata": {
    "collapsed": false,
    "pycharm": {
     "name": "#%%\n"
    }
   },
   "id": "704fdadc58d0a1a7"
  },
  {
   "cell_type": "code",
   "execution_count": null,
   "outputs": [],
   "source": [
    "pyperclip.copy('\\n'.join(url_fmt.format(b) for b in sorted(bases, reverse=True)))"
   ],
   "metadata": {
    "collapsed": false,
    "pycharm": {
     "name": "#%%\n"
    }
   },
   "id": "7787d3a7a059df2d"
  },
  {
   "cell_type": "code",
   "execution_count": null,
   "outputs": [],
   "source": [
    "pyperclip.copy('\\n'.join(non_arxiv))"
   ],
   "metadata": {
    "collapsed": false,
    "pycharm": {
     "name": "#%%\n"
    }
   },
   "id": "f50479be1bfe139a"
  },
  {
   "cell_type": "code",
   "execution_count": null,
   "outputs": [],
   "source": [
    "print('\\n'.join(non_arxiv))"
   ],
   "metadata": {
    "collapsed": false,
    "pycharm": {
     "name": "#%%\n"
    }
   },
   "id": "a2b7e6d89a1b82be"
  },
  {
   "cell_type": "code",
   "execution_count": null,
   "outputs": [],
   "source": [],
   "metadata": {
    "collapsed": false,
    "pycharm": {
     "name": "#%%\n"
    }
   },
   "id": "8154d917f8b38551"
  },
  {
   "cell_type": "code",
   "execution_count": null,
   "outputs": [],
   "source": [
    "# # zot.find_collection(q='pro')\n",
    "# pro_collection_key = 'F6IDVKVV'\n",
    "#\n",
    "# candidate_batch = zot.top(collection=pro_collection_key)\n",
    "# len(candidate_batch)"
   ],
   "metadata": {
    "collapsed": false,
    "pycharm": {
     "name": "#%%\n"
    }
   },
   "id": "7a74e0d1c4c0b750"
  },
  {
   "cell_type": "code",
   "execution_count": null,
   "outputs": [],
   "source": [
    "# item = candidate_batch[0]"
   ],
   "metadata": {
    "collapsed": false,
    "pycharm": {
     "name": "#%%\n"
    }
   },
   "id": "9cc05d08c952670"
  },
  {
   "cell_type": "code",
   "execution_count": null,
   "outputs": [],
   "source": [
    "db_order = [line.split('\\t') for line in new_db_arxiv]\n",
    "db_order = [[arxiv_url_to_id(line[0]), line[1]] for line in db_order]\n",
    "len(db_order)"
   ],
   "metadata": {
    "collapsed": false,
    "pycharm": {
     "name": "#%%\n"
    }
   },
   "id": "53d2855190ab193c"
  },
  {
   "cell_type": "code",
   "execution_count": null,
   "outputs": [],
   "source": [
    "fixing = len([line for line in db_order if line[0] in arxiv])\n",
    "fixing, len(arxiv), len(db_order)"
   ],
   "metadata": {
    "collapsed": false,
    "pycharm": {
     "name": "#%%\n"
    }
   },
   "id": "a1d5e6c5b5186a40"
  },
  {
   "cell_type": "code",
   "execution_count": null,
   "outputs": [],
   "source": [
    "# fixed = [arxiv.get(line[0], line[1]) for line in db_order]\n",
    "fixed = [arxiv.get(line[0], '') for line in db_order]\n",
    "len(fixed)"
   ],
   "metadata": {
    "collapsed": false,
    "pycharm": {
     "name": "#%%\n"
    }
   },
   "id": "a7043a975c6dfacd"
  },
  {
   "cell_type": "code",
   "execution_count": null,
   "outputs": [],
   "source": [
    "names = '\\n'.join(fixed)\n",
    "pyperclip.copy(names)\n",
    "print(names)"
   ],
   "metadata": {
    "collapsed": false,
    "pycharm": {
     "name": "#%%\n"
    }
   },
   "id": "20edd4d34a376f35"
  },
  {
   "cell_type": "code",
   "execution_count": null,
   "outputs": [],
   "source": [],
   "metadata": {
    "collapsed": false,
    "pycharm": {
     "name": "#%%\n"
    }
   },
   "id": "18561502316bc4e1"
  },
  {
   "cell_type": "code",
   "execution_count": null,
   "outputs": [],
   "source": [
    "acands = {item['data'].get('archiveID', '').split(':')[-1]: item for item in candidate_batch if item['data'].get('archiveID', '').startswith('arXiv:')}\n",
    "len(acands)"
   ],
   "metadata": {
    "collapsed": false,
    "pycharm": {
     "name": "#%%\n"
    }
   },
   "id": "459f693e35040817"
  },
  {
   "cell_type": "code",
   "execution_count": null,
   "outputs": [],
   "source": [],
   "metadata": {
    "collapsed": false,
    "pycharm": {
     "name": "#%%\n"
    }
   },
   "id": "702532b08f6c95fc"
  },
  {
   "cell_type": "code",
   "execution_count": null,
   "outputs": [],
   "source": [
    "aurls = dict(line.split('\\t')[::-1] for line in raw_names.split('\\n'))\n",
    "len(urls)"
   ],
   "metadata": {
    "collapsed": false,
    "pycharm": {
     "name": "#%%\n"
    }
   },
   "id": "1be55b5b1bd8b08"
  },
  {
   "cell_type": "code",
   "execution_count": null,
   "outputs": [],
   "source": [
    "# from collections import Counter"
   ],
   "metadata": {
    "collapsed": false,
    "pycharm": {
     "name": "#%%\n"
    }
   },
   "id": "ac57fd1eebb6eed3"
  },
  {
   "cell_type": "code",
   "execution_count": null,
   "outputs": [],
   "source": [
    "# Counter(raw_urls).most_common()"
   ],
   "metadata": {
    "collapsed": false,
    "pycharm": {
     "name": "#%%\n"
    }
   },
   "id": "aa6d9bbd83e57929"
  },
  {
   "cell_type": "code",
   "execution_count": null,
   "outputs": [],
   "source": [
    "arxiv = {'.'.join(url.split('/')[-1].split('.')[:2]): name for url, name in urls.items() if 'arxiv.org' in url}\n",
    "len(arxiv)"
   ],
   "metadata": {
    "collapsed": false,
    "pycharm": {
     "name": "#%%\n"
    }
   },
   "id": "db5216fd69848248"
  },
  {
   "cell_type": "code",
   "execution_count": null,
   "outputs": [],
   "source": [],
   "metadata": {
    "collapsed": false,
    "pycharm": {
     "name": "#%%\n"
    }
   },
   "id": "54004d77e0c9bbe6"
  },
  {
   "cell_type": "code",
   "execution_count": null,
   "outputs": [],
   "source": [],
   "metadata": {
    "collapsed": false,
    "pycharm": {
     "name": "#%%\n"
    }
   },
   "id": "2dc4864fc7912e30"
  },
  {
   "cell_type": "code",
   "execution_count": null,
   "outputs": [],
   "source": [],
   "metadata": {
    "collapsed": false,
    "pycharm": {
     "name": "#%%\n"
    }
   },
   "id": "c9b0ae365c20d4d3"
  },
  {
   "cell_type": "code",
   "execution_count": null,
   "outputs": [],
   "source": [],
   "metadata": {
    "collapsed": false,
    "pycharm": {
     "name": "#%%\n"
    }
   },
   "id": "c22c52f3afe7eee7"
  },
  {
   "cell_type": "code",
   "execution_count": null,
   "outputs": [],
   "source": [
    "bases = ['.'.join(a.split('v')[0].split('.')[:2]) for a in arxiv]\n",
    "len(bases)"
   ],
   "metadata": {
    "collapsed": false,
    "pycharm": {
     "name": "#%%\n"
    }
   },
   "id": "9a80d108c108b149"
  },
  {
   "cell_type": "code",
   "execution_count": null,
   "outputs": [],
   "source": [
    "# item = candidate_batch[0]"
   ],
   "metadata": {
    "collapsed": false,
    "pycharm": {
     "name": "#%%\n"
    }
   },
   "id": "d569da2b6a0e1a2f"
  },
  {
   "cell_type": "code",
   "execution_count": null,
   "outputs": [],
   "source": [
    "db_order = [line.split('\\t') for line in new_db_arxiv]\n",
    "db_order = [[arxiv_url_to_id(line[0]), line[1]] for line in db_order]\n",
    "len(db_order)"
   ],
   "metadata": {
    "collapsed": false,
    "pycharm": {
     "name": "#%%\n"
    }
   },
   "id": "374c66e65b7bee75"
  },
  {
   "cell_type": "code",
   "execution_count": null,
   "outputs": [],
   "source": [
    "fixing = len([line for line in db_order if line[0] in arxiv])\n",
    "fixing, len(arxiv), len(db_order)"
   ],
   "metadata": {
    "collapsed": false,
    "pycharm": {
     "name": "#%%\n"
    }
   },
   "id": "28a599cc14782f9f"
  },
  {
   "cell_type": "code",
   "execution_count": null,
   "outputs": [],
   "source": [
    "# fixed = [arxiv.get(line[0], line[1]) for line in db_order]\n",
    "fixed = [arxiv.get(line[0], '') for line in db_order]\n",
    "len(fixed)"
   ],
   "metadata": {
    "collapsed": false,
    "pycharm": {
     "name": "#%%\n"
    }
   },
   "id": "1d4a4fe0a63ac7d3"
  },
  {
   "cell_type": "code",
   "execution_count": null,
   "outputs": [],
   "source": [
    "names = '\\n'.join(fixed)\n",
    "pyperclip.copy(names)\n",
    "print(names)"
   ],
   "metadata": {
    "collapsed": false,
    "pycharm": {
     "name": "#%%\n"
    }
   },
   "id": "440a1631e2892879"
  },
  {
   "cell_type": "code",
   "execution_count": null,
   "outputs": [],
   "source": [],
   "metadata": {
    "collapsed": false,
    "pycharm": {
     "name": "#%%\n"
    }
   },
   "id": "5ba28ebd93581403"
  },
  {
   "cell_type": "code",
   "execution_count": null,
   "outputs": [],
   "source": [
    "acands = {item['data'].get('archiveID', '').split(':')[-1]: item for item in candidate_batch if item['data'].get('archiveID', '').startswith('arXiv:')}\n",
    "len(acands)"
   ],
   "metadata": {
    "collapsed": false,
    "pycharm": {
     "name": "#%%\n"
    }
   },
   "id": "30f557c5626bec43"
  },
  {
   "cell_type": "code",
   "execution_count": null,
   "outputs": [],
   "source": [],
   "metadata": {
    "collapsed": false,
    "pycharm": {
     "name": "#%%\n"
    }
   },
   "id": "3f7b1f08e24b08a2"
  },
  {
   "cell_type": "code",
   "execution_count": null,
   "outputs": [],
   "source": [
    "aurls = dict(line.split('\\t')[::-1] for line in raw_names.split('\\n'))\n",
    "len(urls)"
   ],
   "metadata": {
    "collapsed": false,
    "pycharm": {
     "name": "#%%\n"
    }
   },
   "id": "6eb8da62ce6828a4"
  },
  {
   "cell_type": "code",
   "execution_count": null,
   "outputs": [],
   "source": [
    "# from collections import Counter"
   ],
   "metadata": {
    "collapsed": false,
    "pycharm": {
     "name": "#%%\n"
    }
   },
   "id": "f86d2847873d942e"
  },
  {
   "cell_type": "code",
   "execution_count": null,
   "outputs": [],
   "source": [
    "# Counter(raw_urls).most_common()"
   ],
   "metadata": {
    "collapsed": false,
    "pycharm": {
     "name": "#%%\n"
    }
   },
   "id": "e3ccb4c2a1892305"
  },
  {
   "cell_type": "code",
   "execution_count": null,
   "outputs": [],
   "source": [
    "arxiv = {'.'.join(url.split('/')[-1].split('.')[:2]): name for url, name in urls.items() if 'arxiv.org' in url}\n",
    "len(arxiv)"
   ],
   "metadata": {
    "collapsed": false,
    "pycharm": {
     "name": "#%%\n"
    }
   },
   "id": "48ecb387589734ef"
  },
  {
   "cell_type": "code",
   "execution_count": null,
   "outputs": [],
   "source": [],
   "metadata": {
    "collapsed": false,
    "pycharm": {
     "name": "#%%\n"
    }
   },
   "id": "892ed2c63f45cc21"
  },
  {
   "cell_type": "code",
   "execution_count": null,
   "outputs": [],
   "source": [],
   "metadata": {
    "collapsed": false,
    "pycharm": {
     "name": "#%%\n"
    }
   },
   "id": "38ca11f2cfb07e65"
  },
  {
   "cell_type": "code",
   "execution_count": null,
   "outputs": [],
   "source": [],
   "metadata": {
    "collapsed": false,
    "pycharm": {
     "name": "#%%\n"
    }
   },
   "id": "e645a1cb1ca6d5fc"
  },
  {
   "cell_type": "code",
   "execution_count": null,
   "outputs": [],
   "source": [],
   "metadata": {
    "collapsed": false,
    "pycharm": {
     "name": "#%%\n"
    }
   },
   "id": "9711763c8c61244f"
  },
  {
   "cell_type": "code",
   "execution_count": null,
   "outputs": [],
   "source": [
    "bases = ['.'.join(a.split('v')[0].split('.')[:2]) for a in arxiv]\n",
    "len(bases)"
   ],
   "metadata": {
    "collapsed": false,
    "pycharm": {
     "name": "#%%\n"
    }
   },
   "id": "938d33f305fdba2f"
  },
  {
   "cell_type": "code",
   "execution_count": null,
   "outputs": [],
   "source": [
    "sorted(bases)"
   ],
   "metadata": {
    "collapsed": false,
    "pycharm": {
     "name": "#%%\n"
    }
   },
   "id": "97085dc12d8812d0"
  },
  {
   "cell_type": "code",
   "execution_count": null,
   "outputs": [],
   "source": [
    "\n",
    "url_fmt = 'https://arxiv.org/abs/{}'\n",
    "for b in sorted(bases, reverse=True):\n",
    "    print(url_fmt.format(b))"
   ],
   "metadata": {
    "collapsed": false,
    "pycharm": {
     "name": "#%%\n"
    }
   },
   "id": "31297968988de41"
  },
  {
   "cell_type": "code",
   "execution_count": null,
   "outputs": [],
   "source": [
    "pyperclip.copy('\\n'.join(url_fmt.format(b) for b in sorted(bases, reverse=True)))"
   ],
   "metadata": {
    "collapsed": false,
    "pycharm": {
     "name": "#%%\n"
    }
   },
   "id": "9e8e0b228f9ebf34"
  },
  {
   "cell_type": "code",
   "execution_count": null,
   "outputs": [],
   "source": [
    "pyperclip.copy('\\n'.join(non_arxiv))"
   ],
   "metadata": {
    "collapsed": false,
    "pycharm": {
     "name": "#%%\n"
    }
   },
   "id": "bdb99f54f4267d23"
  },
  {
   "cell_type": "code",
   "execution_count": null,
   "outputs": [],
   "source": [
    "print('\\n'.join(non_arxiv))"
   ],
   "metadata": {
    "collapsed": false,
    "pycharm": {
     "name": "#%%\n"
    }
   },
   "id": "7995797bc8bdb4d4"
  },
  {
   "cell_type": "code",
   "execution_count": null,
   "outputs": [],
   "source": [],
   "metadata": {
    "collapsed": false,
    "pycharm": {
     "name": "#%%\n"
    }
   },
   "id": "106791c08610f1c4"
  },
  {
   "cell_type": "code",
   "execution_count": 94,
   "outputs": [],
   "source": [
    "# # zot.find_collection(q='pro')\n",
    "# pro_collection_key = 'F6IDVKVV'\n",
    "#\n",
    "# candidate_batch = zot.top(collection=pro_collection_key)\n",
    "# len(candidate_batch)"
   ],
   "metadata": {
    "collapsed": false,
    "pycharm": {
     "name": "#%%\n"
    }
   },
   "id": "16798f912cd695d3"
  },
  {
   "cell_type": "code",
   "execution_count": null,
   "outputs": [],
   "source": [
    "# item = candidate_batch[0]"
   ],
   "metadata": {
    "collapsed": false,
    "pycharm": {
     "name": "#%%\n"
    }
   },
   "id": "4aae5d29e4c44ea3"
  },
  {
   "cell_type": "code",
   "execution_count": 138,
   "outputs": [
    {
     "data": {
      "text/plain": "74"
     },
     "execution_count": 138,
     "metadata": {},
     "output_type": "execute_result"
    }
   ],
   "source": [
    "db_order = [line.split('\\t') for line in new_db_arxiv]\n",
    "db_order = [[arxiv_url_to_id(line[0]), line[1]] for line in db_order]\n",
    "len(db_order)"
   ],
   "metadata": {
    "collapsed": false,
    "pycharm": {
     "name": "#%%\n"
    }
   },
   "id": "404e788800092862"
  },
  {
   "cell_type": "code",
   "execution_count": 139,
   "outputs": [
    {
     "data": {
      "text/plain": "(40, 254, 74)"
     },
     "execution_count": 139,
     "metadata": {},
     "output_type": "execute_result"
    }
   ],
   "source": [
    "fixing = len([line for line in db_order if line[0] in arxiv])\n",
    "fixing, len(arxiv), len(db_order)"
   ],
   "metadata": {
    "collapsed": false,
    "pycharm": {
     "name": "#%%\n"
    }
   },
   "id": "39a0e78ba25612c5"
  },
  {
   "cell_type": "code",
   "execution_count": 140,
   "outputs": [
    {
     "data": {
      "text/plain": "74"
     },
     "execution_count": 140,
     "metadata": {},
     "output_type": "execute_result"
    }
   ],
   "source": [
    "# fixed = [arxiv.get(line[0], line[1]) for line in db_order]\n",
    "fixed = [arxiv.get(line[0], '') for line in db_order]\n",
    "len(fixed)"
   ],
   "metadata": {
    "collapsed": false,
    "pycharm": {
     "name": "#%%\n"
    }
   },
   "id": "9752ead18cf2184e"
  },
  {
   "cell_type": "code",
   "execution_count": 141,
   "outputs": [
    {
     "name": "stdout",
     "output_type": "stream",
     "text": [
      " generative\"\n",
      " theory\"\n",
      " representation\"\n",
      "\"focus on skip-connections and overparametrized latent spaces - and perforamnce on anomaly detection\n",
      " representation\"\n",
      "\n",
      "\n",
      "\n",
      "\n",
      "\n",
      " representation\n",
      " structure\"\n",
      " transfer\"\n",
      "\n",
      "\n",
      "\n",
      "\n",
      "\n",
      "\n",
      "\n",
      "\n",
      "\n",
      " pretrained\"\n",
      " representation\"\n",
      "\n",
      " unsupervised\"\n",
      "\n",
      " representation\"\n",
      " transformers\"\n",
      "\n",
      " structure\n",
      "\n",
      "\"They compare 4 methods for disentangling the latent space of a GAN\n",
      "\"Contrastive learning that optimizes against non-diagonal elements in the covariance\n",
      "\n",
      "evaluation\n",
      " structure\"\n",
      "\"enables computing moments in sum product networks\n",
      "representation\n",
      " translation\"\n",
      "\n",
      " translation\n",
      "anomaly-detection\n",
      "generative\n",
      "NLP\n",
      " regularization\n",
      "theory\n",
      " generative\"\n",
      "\n",
      "\"use SELU and AlphaDropout layers to keep the outputs normalized and keep the gradients from diverging\n",
      "\n",
      " translation\"\n",
      "\n",
      "\n",
      "\n",
      "\n",
      "\n",
      "\n",
      "\n",
      "representation\n",
      "\n",
      "\n",
      "\n",
      "\n",
      " structure\"\n",
      "\n",
      "\n",
      "\n",
      "\n",
      "\n",
      "\n",
      "\n",
      "\n",
      " structure\"\n"
     ]
    }
   ],
   "source": [
    "names = '\\n'.join(fixed)\n",
    "pyperclip.copy(names)\n",
    "print(names)"
   ],
   "metadata": {
    "collapsed": false,
    "pycharm": {
     "name": "#%%\n"
    }
   },
   "id": "2fd8aaa5555caad4"
  },
  {
   "cell_type": "code",
   "execution_count": null,
   "outputs": [],
   "source": [],
   "metadata": {
    "collapsed": false,
    "pycharm": {
     "name": "#%%\n"
    }
   },
   "id": "2aa0fad9c34300df"
  },
  {
   "cell_type": "code",
   "execution_count": 66,
   "outputs": [
    {
     "data": {
      "text/plain": "77"
     },
     "execution_count": 66,
     "metadata": {},
     "output_type": "execute_result"
    }
   ],
   "source": [
    "acands = {item['data'].get('archiveID', '').split(':')[-1]: item for item in candidate_batch if item['data'].get('archiveID', '').startswith('arXiv:')}\n",
    "len(acands)"
   ],
   "metadata": {
    "collapsed": false,
    "pycharm": {
     "name": "#%%\n"
    }
   },
   "id": "5515ce1ddd175764"
  },
  {
   "cell_type": "code",
   "execution_count": null,
   "outputs": [],
   "source": [],
   "metadata": {
    "collapsed": false,
    "pycharm": {
     "name": "#%%\n"
    }
   },
   "id": "e59c5089aaeee3fe"
  },
  {
   "cell_type": "code",
   "execution_count": 38,
   "outputs": [
    {
     "data": {
      "text/plain": "289"
     },
     "execution_count": 38,
     "metadata": {},
     "output_type": "execute_result"
    }
   ],
   "source": [
    "aurls = dict(line.split('\\t')[::-1] for line in raw_names.split('\\n'))\n",
    "len(urls)"
   ],
   "metadata": {
    "collapsed": false,
    "pycharm": {
     "name": "#%%\n"
    }
   },
   "id": "18815e032d45aa97"
  },
  {
   "cell_type": "code",
   "execution_count": 41,
   "outputs": [],
   "source": [
    "# from collections import Counter"
   ],
   "metadata": {
    "collapsed": false,
    "pycharm": {
     "name": "#%%\n"
    }
   },
   "id": "bfb053766cd4d26c"
  },
  {
   "cell_type": "code",
   "execution_count": 42,
   "outputs": [],
   "source": [
    "# Counter(raw_urls).most_common()"
   ],
   "metadata": {
    "collapsed": false,
    "pycharm": {
     "name": "#%%\n"
    }
   },
   "id": "1bb970db28955d82"
  },
  {
   "cell_type": "code",
   "execution_count": 46,
   "outputs": [
    {
     "data": {
      "text/plain": "254"
     },
     "execution_count": 46,
     "metadata": {},
     "output_type": "execute_result"
    }
   ],
   "source": [
    "arxiv = {'.'.join(url.split('/')[-1].split('.')[:2]): name for url, name in urls.items() if 'arxiv.org' in url}\n",
    "len(arxiv)"
   ],
   "metadata": {
    "collapsed": false,
    "pycharm": {
     "name": "#%%\n"
    }
   },
   "id": "bb88f67ab1f519e9"
  },
  {
   "cell_type": "code",
   "execution_count": null,
   "outputs": [],
   "source": [],
   "metadata": {
    "collapsed": false,
    "pycharm": {
     "name": "#%%\n"
    }
   },
   "id": "6cabc257f9578206"
  },
  {
   "cell_type": "code",
   "execution_count": null,
   "outputs": [],
   "source": [],
   "metadata": {
    "collapsed": false,
    "pycharm": {
     "name": "#%%\n"
    }
   },
   "id": "60235b189e65f4d9"
  },
  {
   "cell_type": "code",
   "execution_count": null,
   "outputs": [],
   "source": [],
   "metadata": {
    "collapsed": false,
    "pycharm": {
     "name": "#%%\n"
    }
   },
   "id": "27b2c41da3c830ae"
  },
  {
   "cell_type": "code",
   "execution_count": null,
   "outputs": [],
   "source": [],
   "metadata": {
    "collapsed": false,
    "pycharm": {
     "name": "#%%\n"
    }
   },
   "id": "f630cb0d73b6696f"
  },
  {
   "cell_type": "code",
   "execution_count": 12,
   "outputs": [
    {
     "data": {
      "text/plain": "260"
     },
     "execution_count": 12,
     "metadata": {},
     "output_type": "execute_result"
    }
   ],
   "source": [
    "bases = ['.'.join(a.split('v')[0].split('.')[:2]) for a in arxiv]\n",
    "len(bases)"
   ],
   "metadata": {
    "collapsed": false,
    "pycharm": {
     "name": "#%%\n"
    }
   },
   "id": "46d7ec3758251017"
  },
  {
   "cell_type": "code",
   "execution_count": 13,
   "outputs": [
    {
     "data": {
      "text/plain": "['0802.2960',\n '1304.7920',\n '1310.1757',\n '1511.05644',\n '1605.09782',\n '1606.02580',\n '1606.03498',\n '1606.04934',\n '1606.08415',\n '1608.04471',\n '1609.03499',\n '1609.04468',\n '1609.09106',\n '1610.00291',\n '1611.01704',\n '1611.03383',\n '1612.00222',\n '1612.04357',\n '1612.07828',\n '1702.04767',\n '1702.08396',\n '1703.00848',\n '1703.03400',\n '1703.05921',\n '1703.10593',\n '1705.02894',\n '1705.03122',\n '1705.08821',\n '1705.09367',\n '1705.09761',\n '1705.10220',\n '1706.00531',\n '1706.02262',\n '1706.02515',\n '1706.03762',\n '1707.02342',\n '1707.05776',\n '1710.05741',\n '1710.11379',\n '1711.00937',\n '1711.01204',\n '1711.01558',\n '1711.08014',\n '1711.09767',\n '1711.10284',\n '1712.00961',\n '1712.06909',\n '1802.05957',\n '1802.05983',\n '1802.10151',\n '1803.01422',\n '1803.02991',\n '1803.05407',\n '1803.05649',\n '1804.01947',\n '1804.03599',\n '1804.04732',\n '1804.07723',\n '1805.08318',\n '1806.01670',\n '1806.02402',\n '1806.03536',\n '1806.04994',\n '1807.03039',\n '1807.09244',\n '1808.00948',\n '1809.04758',\n '1809.11096',\n '1810.01367',\n '1810.10333',\n '1810.10340',\n '1811.09393',\n '1901.03407',\n '1901.04866',\n '1901.07017',\n '1901.08991',\n '1901.10964',\n '1901.11390',\n '1902.02102',\n '1902.07208',\n '1903.05789',\n '1904.01681',\n '1904.02639',\n '1904.12347',\n '1904.13132',\n '1905.01723',\n '1905.10403',\n '1905.11979',\n '1906.00446',\n '1906.02226',\n '1906.02629',\n '1906.03260',\n '1906.03744',\n '1906.04032',\n '1906.04358',\n '1906.10335',\n '1907.02544',\n '1907.03961',\n '1907.04809',\n '1907.07171',\n '1907.13052',\n '1908.09257',\n '1909.04802',\n '1909.07877',\n '1909.12077',\n '1910.01442',\n '1910.05587',\n '1910.09763',\n '1910.09772',\n '1911.02469',\n '1911.03976',\n '1911.04018',\n '1911.04252',\n '1911.05371',\n '1911.08265',\n '1911.08411',\n '1911.09070',\n '1911.12247',\n '1912.02803',\n '1912.02875',\n '1912.09953',\n '1912.12879',\n '2001.02408',\n '2001.02745',\n '2001.08361',\n '2002.02886',\n '2002.03370',\n '2002.04881',\n '2002.05709',\n '2002.07101',\n '2002.08111',\n '2002.08599',\n '2002.08871',\n '2002.08988',\n '2002.10964',\n '2002.11537',\n '2003.02012',\n '2003.08727',\n '2003.08934',\n '2004.00642',\n '2004.01703',\n '2004.03805',\n '2004.04977',\n '2004.08697',\n '2004.12906',\n '2004.13912',\n '2005.02357',\n '2005.09635',\n '2005.09923',\n '2005.13580',\n '2005.13580',\n '2005.14165',\n '2006.05964',\n '2006.06130',\n '2006.06485',\n '2006.06676',\n '2006.07217',\n '2006.07733',\n '2006.08204',\n '2006.10562',\n '2006.10597',\n '2006.10738',\n '2006.13202',\n '2006.15055',\n '2007.01272',\n '2007.02500',\n '2007.02798',\n '2007.03898',\n '2007.05566',\n '2007.13382',\n '2007.13866',\n '2008.01505',\n '2008.01505',\n '2008.09567',\n '2008.11700',\n '2008.12577',\n '2009.01835',\n '2009.05686',\n '2009.08388',\n '2009.11732',\n '2009.14075',\n '2009.14794',\n '2010.00578',\n '2010.02637',\n '2010.07922',\n '2010.10453',\n '2010.11518',\n '2010.12237',\n '2010.14407',\n '2010.14925',\n '2010.15283',\n '2010.15831',\n '2011.05244',\n '2011.05286',\n '2011.08102',\n '2011.08105',\n '2011.08114',\n '2011.08145',\n '2011.08785',\n '2011.13775',\n '2012.03448',\n '2012.03715',\n '2012.09276',\n '2012.09841',\n '2101.01169',\n '2101.09258',\n '2102.03906',\n '2102.05082',\n '2102.06171',\n '2102.06177',\n '2102.06204',\n '2102.09270',\n '2102.10395',\n '2102.11107',\n '2102.12092',\n '2102.13647',\n '2103.03230',\n '2103.04786',\n '2103.08877',\n '2103.08877',\n '2103.13751',\n '2104.05196',\n '2105.01601',\n '2105.02135',\n '2105.02135',\n '2105.03663',\n '2105.03663',\n '2105.12806',\n '2105.14802',\n '2105.14859',\n '2105.15134',\n '2106.01834',\n '2106.01858',\n '2106.01939',\n '2106.02039',\n '2106.02997',\n '2106.04263',\n '2106.04619',\n '2106.05238',\n '2106.06819',\n '2106.07682',\n '2106.12423',\n '2107.00166',\n '2107.00793',\n '2107.03006',\n '2108.08052',\n '2109.01394',\n '2109.03795',\n '2109.04504',\n '2109.04504',\n '2110.02951',\n '2110.08718',\n '2111.00210',\n '2111.08960',\n '2112.00826',\n '2202.06533',\n '2202.12637',\n '2204.00382',\n '2205.10343',\n '2205.15463']"
     },
     "execution_count": 13,
     "metadata": {},
     "output_type": "execute_result"
    }
   ],
   "source": [
    "sorted(bases)"
   ],
   "metadata": {
    "collapsed": false,
    "pycharm": {
     "name": "#%%\n"
    }
   },
   "id": "288e845dd2e4ce83"
  },
  {
   "cell_type": "code",
   "execution_count": null,
   "outputs": [],
   "source": [
    "\n",
    "url_fmt = 'https://arxiv.org/abs/{}'\n",
    "for b in sorted(bases, reverse=True):\n",
    "    print(url_fmt.format(b))"
   ],
   "metadata": {
    "collapsed": false,
    "pycharm": {
     "name": "#%%\n"
    }
   },
   "id": "c0abffb6ad0cfa94"
  },
  {
   "cell_type": "code",
   "execution_count": 17,
   "outputs": [],
   "source": [
    "pyperclip.copy('\\n'.join(url_fmt.format(b) for b in sorted(bases, reverse=True)))"
   ],
   "metadata": {
    "collapsed": false,
    "pycharm": {
     "name": "#%%\n"
    }
   },
   "id": "ccd5f30c8ccfa68c"
  },
  {
   "cell_type": "code",
   "execution_count": 14,
   "outputs": [],
   "source": [
    "pyperclip.copy('\\n'.join(non_arxiv))"
   ],
   "metadata": {
    "collapsed": false,
    "pycharm": {
     "name": "#%%\n"
    }
   },
   "id": "725eabba92c2450b"
  },
  {
   "cell_type": "code",
   "execution_count": 19,
   "outputs": [
    {
     "name": "stdout",
     "output_type": "stream",
     "text": [
      "https://www.aaai.org/Papers/AAAI/1994/AAAI94-035.pdf\n",
      "https://ai.facebook.com/datasets/CO3D-dataset/\n",
      "https://openreview.net/pdf?id=RQfcckT1M_4\n",
      "https://openreview.net/pdf?id=XqEF9riB93S\n",
      "https://openreview.net/pdf?id=TVHS5Y4dNvM\n",
      "https://www.pnas.org/content/pnas/113/27/7391.full.pdf\n",
      "https://openreview.net/pdf?id=SJxeI6EYwS\n",
      "https://openaccess.thecvf.com/content_CVPR_2019/papers/Wu_Sliced_Wasserstein_Generative_Models_CVPR_2019_paper.pdf\n",
      "https://www.cv-foundation.org/openaccess/content_cvpr_workshops_2014/W15/papers/Wang_Generalized_Autoencoder_A_2014_CVPR_paper.pdf\n",
      "https://github.com/NVlabs/High-res-disentanglement-datasets\n",
      "https://cdn.openai.com/papers/Learning_Transferable_Visual_Models_From_Natural_Language_Supervision.pdf\n",
      "https://jmlr.org/papers/volume21/19-232/19-232.pdf\n",
      "https://openreview.net/pdf?id=H1gfFaEYDS\n",
      "http://www.causalityinvision.com/papers/0015.pdf\n",
      "https://am.is.tuebingen.mpg.de/uploads_file/attachment/attachment/589/ICRA20_1157_FI.pdf\n",
      "https://openreview.net/pdf?id=SJgsCjCqt7\n",
      "https://www.cs.rpi.edu/~trink/Courses/RobotManipulation/lectures/lecture6.pdf\n",
      "http://eplex.cs.ucf.edu/papers/stanley_gpem07.pdf\n",
      "http://maeresearch.ucsd.edu/groups/skelton/publications/weiwei_ilqg_CDC43.pdf\n",
      "https://www.mvtec.com/fileadmin/Redaktion/mvtec.com/company/research/mvtec_ad.pdf\n",
      "http://www.fki.inf.unibe.ch/databases/iam-handwriting-database\n",
      "https://papers.nips.cc/paper/7504-metagan-an-adversarial-approach-to-few-shot-learning.pdf\n",
      "https://openreview.net/pdf?id=xTJEN-ggl1b\n",
      "https://openreview.net/pdf?id=BkS3fnl0W\n",
      "http://www.ecmlpkdd2018.org/wp-content/uploads/2018/09/223.pdf\n",
      "https://www.pnas.org/content/pnas/113/27/7345.full.pdf\n",
      "http://faculty.neu.edu.cn/yunhyan/NEU_surface_defect_database.html\n",
      "https://github.com/hendrycks/anomaly-seg\n",
      "https://github.com/rwightman/pytorch-image-models/\n",
      "http://faculty.neu.edu.cn/yunhyan/SCACM.html\n",
      "https://svip-lab.github.io/dataset/campus_dataset.html\n",
      "https://github.com/znxlwm/UGATIT-pytorch\n",
      "https://openreview.net/pdf?id=By-7dz-AZ\n"
     ]
    }
   ],
   "source": [
    "print('\\n'.join(non_arxiv))"
   ],
   "metadata": {
    "collapsed": false,
    "pycharm": {
     "name": "#%%\n"
    }
   },
   "id": "ed20d97a823db2c0"
  },
  {
   "cell_type": "code",
   "execution_count": null,
   "id": "98112f39",
   "metadata": {
    "pycharm": {
     "name": "#%%\n"
    }
   },
   "outputs": [],
   "source": []
  }
 ],
 "metadata": {
  "kernelspec": {
   "display_name": "Python 3",
   "language": "python",
   "name": "python3"
  },
  "language_info": {
   "codemirror_mode": {
    "name": "ipython",
    "version": 3
   },
   "file_extension": ".py",
   "mimetype": "text/x-python",
   "name": "python",
   "nbconvert_exporter": "python",
   "pygments_lexer": "ipython3",
   "version": "3.8.8"
  }
 },
 "nbformat": 4,
 "nbformat_minor": 5
}
